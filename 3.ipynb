{
 "cells": [
  {
   "cell_type": "code",
   "execution_count": 1,
   "metadata": {},
   "outputs": [],
   "source": [
    "import pandas as pd"
   ]
  },
  {
   "cell_type": "code",
   "execution_count": 2,
   "metadata": {},
   "outputs": [],
   "source": [
    "df = pd.read_csv(\"parkinsons.csv\")"
   ]
  },
  {
   "cell_type": "code",
   "execution_count": 17,
   "metadata": {},
   "outputs": [
    {
     "name": "stdout",
     "output_type": "stream",
     "text": [
      "<class 'pandas.core.frame.DataFrame'>\n",
      "RangeIndex: 195 entries, 0 to 194\n",
      "Data columns (total 24 columns):\n",
      " #   Column            Non-Null Count  Dtype  \n",
      "---  ------            --------------  -----  \n",
      " 0   name              195 non-null    object \n",
      " 1   MDVP:Fo(Hz)       195 non-null    float64\n",
      " 2   MDVP:Fhi(Hz)      195 non-null    float64\n",
      " 3   MDVP:Flo(Hz)      195 non-null    float64\n",
      " 4   MDVP:Jitter(%)    195 non-null    float64\n",
      " 5   MDVP:Jitter(Abs)  195 non-null    float64\n",
      " 6   MDVP:RAP          195 non-null    float64\n",
      " 7   MDVP:PPQ          195 non-null    float64\n",
      " 8   Jitter:DDP        195 non-null    float64\n",
      " 9   MDVP:Shimmer      195 non-null    float64\n",
      " 10  MDVP:Shimmer(dB)  195 non-null    float64\n",
      " 11  Shimmer:APQ3      195 non-null    float64\n",
      " 12  Shimmer:APQ5      195 non-null    float64\n",
      " 13  MDVP:APQ          195 non-null    float64\n",
      " 14  Shimmer:DDA       195 non-null    float64\n",
      " 15  NHR               195 non-null    float64\n",
      " 16  HNR               195 non-null    float64\n",
      " 17  status            195 non-null    int64  \n",
      " 18  RPDE              195 non-null    float64\n",
      " 19  DFA               195 non-null    float64\n",
      " 20  spread1           195 non-null    float64\n",
      " 21  spread2           195 non-null    float64\n",
      " 22  D2                195 non-null    float64\n",
      " 23  PPE               195 non-null    float64\n",
      "dtypes: float64(22), int64(1), object(1)\n",
      "memory usage: 36.7+ KB\n"
     ]
    }
   ],
   "source": [
    "df.info()"
   ]
  },
  {
   "cell_type": "code",
   "execution_count": 3,
   "metadata": {},
   "outputs": [],
   "source": [
    "df_1 = df[df.status==1]"
   ]
  },
  {
   "cell_type": "code",
   "execution_count": null,
   "metadata": {},
   "outputs": [],
   "source": [
    "df_1.isnull().sum()"
   ]
  },
  {
   "cell_type": "code",
   "execution_count": 4,
   "metadata": {},
   "outputs": [],
   "source": [
    "df_0 = df[df.status==0]"
   ]
  },
  {
   "cell_type": "code",
   "execution_count": null,
   "metadata": {},
   "outputs": [],
   "source": [
    "df_0.isnull().sum()"
   ]
  },
  {
   "cell_type": "code",
   "execution_count": 9,
   "metadata": {},
   "outputs": [
    {
     "name": "stderr",
     "output_type": "stream",
     "text": [
      "/var/folders/r9/zzfhvzps4r513kd5br8hlr780000gn/T/ipykernel_37204/1592945625.py:1: FutureWarning: The default value of numeric_only in DataFrame.mean is deprecated. In a future version, it will default to False. In addition, specifying 'numeric_only=None' is deprecated. Select only valid columns or specify the value of numeric_only to silence this warning.\n",
      "  df_1.mean()\n"
     ]
    },
    {
     "data": {
      "text/plain": [
       "MDVP:Fo(Hz)         145.180762\n",
       "MDVP:Fhi(Hz)        188.441463\n",
       "MDVP:Flo(Hz)        106.893558\n",
       "MDVP:Jitter(%)        0.006989\n",
       "MDVP:Jitter(Abs)      0.000051\n",
       "MDVP:RAP              0.003757\n",
       "MDVP:PPQ              0.003900\n",
       "Jitter:DDP            0.011273\n",
       "MDVP:Shimmer          0.033658\n",
       "MDVP:Shimmer(dB)      0.321204\n",
       "Shimmer:APQ3          0.017676\n",
       "Shimmer:APQ5          0.020285\n",
       "MDVP:APQ              0.027600\n",
       "Shimmer:DDA           0.053027\n",
       "NHR                   0.029211\n",
       "HNR                  20.974048\n",
       "status                1.000000\n",
       "RPDE                  0.516816\n",
       "DFA                   0.725408\n",
       "spread1              -5.333420\n",
       "spread2               0.248133\n",
       "D2                    2.456058\n",
       "PPE                   0.233828\n",
       "dtype: float64"
      ]
     },
     "execution_count": 9,
     "metadata": {},
     "output_type": "execute_result"
    }
   ],
   "source": [
    "df_1.mean()"
   ]
  },
  {
   "cell_type": "code",
   "execution_count": 8,
   "metadata": {},
   "outputs": [
    {
     "name": "stderr",
     "output_type": "stream",
     "text": [
      "/var/folders/r9/zzfhvzps4r513kd5br8hlr780000gn/T/ipykernel_37204/4017312627.py:1: FutureWarning: The default value of numeric_only in DataFrame.std is deprecated. In a future version, it will default to False. In addition, specifying 'numeric_only=None' is deprecated. Select only valid columns or specify the value of numeric_only to silence this warning.\n",
      "  df_1.std()\n"
     ]
    },
    {
     "data": {
      "text/plain": [
       "MDVP:Fo(Hz)         32.348050\n",
       "MDVP:Fhi(Hz)        88.339180\n",
       "MDVP:Flo(Hz)        32.274358\n",
       "MDVP:Jitter(%)       0.005240\n",
       "MDVP:Jitter(Abs)     0.000037\n",
       "MDVP:RAP             0.003241\n",
       "MDVP:PPQ             0.002998\n",
       "Jitter:DDP           0.009724\n",
       "MDVP:Shimmer         0.019970\n",
       "MDVP:Shimmer(dB)     0.207798\n",
       "Shimmer:APQ3         0.010797\n",
       "Shimmer:APQ5         0.012847\n",
       "MDVP:APQ             0.018062\n",
       "Shimmer:DDA          0.032391\n",
       "NHR                  0.044447\n",
       "HNR                  4.339143\n",
       "status               0.000000\n",
       "RPDE                 0.101254\n",
       "DFA                  0.054786\n",
       "spread1              0.970792\n",
       "spread2              0.077809\n",
       "D2                   0.375742\n",
       "PPE                  0.084271\n",
       "dtype: float64"
      ]
     },
     "execution_count": 8,
     "metadata": {},
     "output_type": "execute_result"
    }
   ],
   "source": [
    "df_1.std()"
   ]
  },
  {
   "cell_type": "code",
   "execution_count": 10,
   "metadata": {},
   "outputs": [
    {
     "name": "stderr",
     "output_type": "stream",
     "text": [
      "/var/folders/r9/zzfhvzps4r513kd5br8hlr780000gn/T/ipykernel_37204/2972059526.py:1: FutureWarning: The default value of numeric_only in DataFrame.mean is deprecated. In a future version, it will default to False. In addition, specifying 'numeric_only=None' is deprecated. Select only valid columns or specify the value of numeric_only to silence this warning.\n",
      "  df_0.mean()\n"
     ]
    },
    {
     "data": {
      "text/plain": [
       "MDVP:Fo(Hz)         181.937771\n",
       "MDVP:Fhi(Hz)        223.636750\n",
       "MDVP:Flo(Hz)        145.207292\n",
       "MDVP:Jitter(%)        0.003866\n",
       "MDVP:Jitter(Abs)      0.000023\n",
       "MDVP:RAP              0.001925\n",
       "MDVP:PPQ              0.002056\n",
       "Jitter:DDP            0.005776\n",
       "MDVP:Shimmer          0.017615\n",
       "MDVP:Shimmer(dB)      0.162958\n",
       "Shimmer:APQ3          0.009504\n",
       "Shimmer:APQ5          0.010509\n",
       "MDVP:APQ              0.013305\n",
       "Shimmer:DDA           0.028511\n",
       "NHR                   0.011483\n",
       "HNR                  24.678750\n",
       "status                0.000000\n",
       "RPDE                  0.442552\n",
       "DFA                   0.695716\n",
       "spread1              -6.759264\n",
       "spread2               0.160292\n",
       "D2                    2.154491\n",
       "PPE                   0.123017\n",
       "dtype: float64"
      ]
     },
     "execution_count": 10,
     "metadata": {},
     "output_type": "execute_result"
    }
   ],
   "source": [
    "df_0.mean()"
   ]
  },
  {
   "cell_type": "code",
   "execution_count": 11,
   "metadata": {},
   "outputs": [
    {
     "name": "stderr",
     "output_type": "stream",
     "text": [
      "/var/folders/r9/zzfhvzps4r513kd5br8hlr780000gn/T/ipykernel_37204/3085483482.py:1: FutureWarning: The default value of numeric_only in DataFrame.std is deprecated. In a future version, it will default to False. In addition, specifying 'numeric_only=None' is deprecated. Select only valid columns or specify the value of numeric_only to silence this warning.\n",
      "  df_0.std()\n"
     ]
    },
    {
     "data": {
      "text/plain": [
       "MDVP:Fo(Hz)         52.731067\n",
       "MDVP:Fhi(Hz)        96.727067\n",
       "MDVP:Flo(Hz)        58.757070\n",
       "MDVP:Jitter(%)       0.002055\n",
       "MDVP:Jitter(Abs)     0.000015\n",
       "MDVP:RAP             0.001066\n",
       "MDVP:PPQ             0.000943\n",
       "Jitter:DDP           0.003199\n",
       "MDVP:Shimmer         0.005544\n",
       "MDVP:Shimmer(dB)     0.057822\n",
       "Shimmer:APQ3         0.003456\n",
       "Shimmer:APQ5         0.003231\n",
       "MDVP:APQ             0.003825\n",
       "Shimmer:DDA          0.010368\n",
       "NHR                  0.019088\n",
       "HNR                  3.434540\n",
       "status               0.000000\n",
       "RPDE                 0.092199\n",
       "DFA                  0.051346\n",
       "spread1              0.642782\n",
       "spread2              0.062982\n",
       "D2                   0.310269\n",
       "PPE                  0.044820\n",
       "dtype: float64"
      ]
     },
     "execution_count": 11,
     "metadata": {},
     "output_type": "execute_result"
    }
   ],
   "source": [
    "df_0.std()"
   ]
  },
  {
   "cell_type": "code",
   "execution_count": null,
   "metadata": {},
   "outputs": [],
   "source": []
  }
 ],
 "metadata": {
  "kernelspec": {
   "display_name": "Python 3",
   "language": "python",
   "name": "python3"
  },
  "language_info": {
   "codemirror_mode": {
    "name": "ipython",
    "version": 3
   },
   "file_extension": ".py",
   "mimetype": "text/x-python",
   "name": "python",
   "nbconvert_exporter": "python",
   "pygments_lexer": "ipython3",
   "version": "3.10.6"
  },
  "orig_nbformat": 4,
  "vscode": {
   "interpreter": {
    "hash": "aee8b7b246df8f9039afb4144a1f6fd8d2ca17a180786b69acc140d282b71a49"
   }
  }
 },
 "nbformat": 4,
 "nbformat_minor": 2
}
